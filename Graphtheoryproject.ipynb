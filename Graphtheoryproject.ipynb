{
    "cells": [
        {
            "cell_type": "code",
            "execution_count": null,
            "metadata": {},
            "outputs": [],
            "source": [
                "knitr::opts_chunk$set(echo = TRUE)\n",
                "\n"
            ]
        },
        {
            "cell_type": "markdown",
            "metadata": {},
            "source": [
                "The dataset here analyzed has been downloaded from https://www.wormatlas.org/neuronalwiring.html. \n",
                "The \"NeuronConnect.csv\" file provides an updated version of C. elegans wiring diagram, covering 6264 synapses, that include chemical synapses and electrical junctions, and 279 neurons. \"Neuron1\" and \"Neuron2\" are the names of the neurons connected by an edge, and also the type of the synapses is indicated (S: Send or output, Sp: Send-poly, R: Receive or input, Rp: Receive-poly, EJ: Electric junction, NMJ: Neuromuscular junction). The label \"Nbr\" indicates the number of synapses between the given neuron pair.\n",
                "\n",
                "The \"NeuronType.csv\" file contains neurons names, as well as neuron position, synapse position, and various neuron morphology designations that can be used for further analyses.\n"
            ]
        },
        {
            "cell_type": "code",
            "execution_count": null,
            "metadata": {},
            "outputs": [],
            "source": [
                "options(warn=-1)\n",
                "library(\"igraph\")\n",
                "library(\"RColorBrewer\")\n",
                "library(netcontrol)\n",
                "library(permute)\n",
                "library(\"png\")\n",
                "\n",
                "nodes<-read.csv(\"NeuronType.csv\",header=T,as.is = T, sep =\";\")\n",
                "links<-read.csv(\"NeuronConnect.csv\",header=T,as.is = T, sep= \";\")\n",
                "nmj_indexes<-which(links[,2]!=\"NMJ\")\n",
                "brain_links<-links[nmj_indexes,]\n",
                "net <- graph_from_data_frame(d=brain_links,nodes,directed=T)\n",
                "A<-as_adjacency_matrix(net)\n"
            ]
        },
        {
            "cell_type": "markdown",
            "metadata": {},
            "source": [
                "\n",
                "# Comparison between the real network and a null model\n"
            ]
        },
        {
            "cell_type": "code",
            "execution_count": null,
            "metadata": {},
            "outputs": [],
            "source": [
                "netsim <-  simplify(net, remove.multiple = F, remove.loops = T)\n",
                "netsim<-simplify(netsim, edge.attr.comb=list(Weight=\"sum\",\"ignore\"))\n"
            ]
        },
        {
            "cell_type": "markdown",
            "metadata": {},
            "source": [
                "\n",
                "\n"
            ]
        },
        {
            "cell_type": "code",
            "execution_count": null,
            "metadata": {},
            "outputs": [],
            "source": [
                "V(netsim)$size<-degree(netsim)*0.08\n",
                "#col <- brewer.pal(8, \"Reds\")[3]\n",
                "V(netsim)$color <- \"orange\"\n",
                "E(netsim)$arrow.size<-.2\n",
                "E(netsim)$width<-.0003\n",
                "plot(netsim, edge.color = \"Gray80\",vertex.label = NA, layout = layout_with_fr, main = 'Real network')\n"
            ]
        },
        {
            "cell_type": "markdown",
            "metadata": {},
            "source": [
                "\n",
                "### Building the random surrogate by fixing the number of nodes and links and rewiring the links\n"
            ]
        },
        {
            "cell_type": "code",
            "execution_count": null,
            "metadata": {},
            "outputs": [],
            "source": [
                "random<-rewire(net, with = each_edge(prob = 1))\n",
                "Arandom<-as_adjacency_matrix(random)\n",
                "\n",
                "netsim <-  simplify(random, remove.multiple = F, remove.loops = T)\n",
                "netsim<-simplify(netsim, edge.attr.comb=list(Weight=\"sum\",\"ignore\"))\n",
                "V(netsim)$size<-degree(netsim)*0.08\n",
                "#col <- brewer.pal(8, \"Reds\")[1]\n",
                "V(netsim)$color <- \"orange\"\n",
                "E(netsim)$arrow.size<-.2\n",
                "E(netsim)$width<-.0003\n",
                "\n",
                "plot(netsim, edge.color = \"Gray90\",vertex.label = NA, layout = layout_with_fr, main = 'Random network')\n"
            ]
        },
        {
            "cell_type": "markdown",
            "metadata": {},
            "source": [
                "\n",
                "\n"
            ]
        },
        {
            "cell_type": "code",
            "execution_count": null,
            "metadata": {},
            "outputs": [],
            "source": [
                "par(cex.main = 0.8)\n",
                "\n",
                "layout(matrix(c(1,2),1, 2, byrow = TRUE), widths = c(4,4),heights = c(3), TRUE)\n",
                "\n",
                "palf <- colorRampPalette(c(\"white\", \"blue\"))\n",
                "heatmap(as.matrix(A), Rowv = NA, Colv = NA,cexRow =1,cexCol = 1,col = palf(3000),\n",
                "scale=\"none\", margins=c(5,5), main = 'Adjacency matrix of the real network')\n",
                "heatmap(as.matrix(Arandom), Rowv = NA, Colv = NA, col = palf(3000),cexRow = 1,cexCol = 1,\n",
                "scale=\"none\", margins=c(5,5), main = 'Adjacency matrix of the random network')\n"
            ]
        },
        {
            "cell_type": "markdown",
            "metadata": {},
            "source": [
                "\n",
                "## Some measures on the real network and the random one\n"
            ]
        },
        {
            "cell_type": "code",
            "execution_count": null,
            "metadata": {},
            "outputs": [],
            "source": [
                "c<-average.path.length(net, directed = TRUE)\n",
                "crandom<-average.path.length(random, directed = TRUE)\n",
                "print(c('Average path length:', c))\n",
                "print(c('Average path length in the random case:', crandom))\n"
            ]
        },
        {
            "cell_type": "markdown",
            "metadata": {},
            "source": [
                "\n",
                "\n"
            ]
        },
        {
            "cell_type": "code",
            "execution_count": null,
            "metadata": {},
            "outputs": [],
            "source": [
                "diameter(net, directed = TRUE, unconnected = FALSE, weights = NULL)\n",
                "diameter(random, directed = TRUE, unconnected = FALSE, weights = NULL)\n"
            ]
        },
        {
            "cell_type": "markdown",
            "metadata": {},
            "source": [
                "Both the diameter and the average path length are higher in the real network with respect to the random case.\n",
                "We expect that a random network has the small-world property, i. e. the average distance that grows with $\\log{N}$.\n",
                "Apparently this real network displays less markedly this small world property.\n"
            ]
        },
        {
            "cell_type": "code",
            "execution_count": null,
            "metadata": {},
            "outputs": [],
            "source": [
                "par( cex.lab = 0.8)\n",
                "nf<-layout(matrix(c(1,2),1, 2, byrow = TRUE), widths = c(8,8),heights = c(8), TRUE)\n",
                "deg <-hist(degree(net),breaks = 50, plot = FALSE, freq =FALSE)\n",
                "\n",
                "# deg.dist <- degree_distribution(net, cumulative=T, mode=\"all\")\n",
                "# plot( x=0:max(degree(net)), y=deg.dist, pch=19,log= 'xy', cex=1.2, col=\"orange\",\n",
                "# xlab=\"Degree\", ylab=\"Cumulative Frequency\")\n",
                "# \n",
                "# \n",
                "# \n",
                "\n",
                "plot(deg$breaks[-1],deg$counts, log = 'xy', pch = '0',col = 'red', xlab = 'Degree', ylab = 'Probability density')\n",
                "\n",
                "deg <-hist(degree(random),breaks = 50, plot = FALSE, freq = FALSE)\n",
                "plot(deg$breaks[-1],deg$counts, type = 'l',col = 'red',  xlab = 'Degree', ylab = 'Probability density')\n",
                "\n",
                "\n",
                "# \n",
                "# deg.dist <- degree_distribution(random, cumulative=T, mode=\"all\")\n",
                "# plot( x=0:max(degree(random)), y=deg.dist, pch=19,log = 'xy', cex=1.2, col=\"orange\",\n",
                "# xlab=\"Degree\", ylab=\"Cumulative Frequency\")\n",
                "\n",
                "print(c('Mean degree:' ,mean(degree(random))))\n"
            ]
        },
        {
            "cell_type": "markdown",
            "metadata": {},
            "source": [
                "When looking at the degree distribution (without considering separately in-degree and out-degree), the real network displays a distribution with heavy tails and some hubs that have large degree, while the random network displays a distribution peaked around the mean degree (44.9).\n",
                "\n",
                "Looking at the number of components, we see that both real and random network are connected networks.\n"
            ]
        },
        {
            "cell_type": "code",
            "execution_count": null,
            "metadata": {},
            "outputs": [],
            "source": [
                "lapl <- laplacian_matrix(net)\n",
                "eigvallapl <- eigen(lapl)$values\n"
            ]
        },
        {
            "cell_type": "markdown",
            "metadata": {},
            "source": [
                "The number of zero eigenvalues of the Laplacian corresponds to the number of connected components:\n",
                "\n"
            ]
        },
        {
            "cell_type": "code",
            "execution_count": null,
            "metadata": {},
            "outputs": [],
            "source": [
                "numcomponents <-length(eigvallapl[Re(eigvallapl) <10^-12])\n",
                "#print(numcomponents == components(net)$no)\n",
                "print(numcomponents)\n",
                "print(is.connected(net, mode = c('weak', 'strong')))\n"
            ]
        },
        {
            "cell_type": "markdown",
            "metadata": {},
            "source": [
                "\n",
                "\n"
            ]
        },
        {
            "cell_type": "code",
            "execution_count": null,
            "metadata": {},
            "outputs": [],
            "source": [
                "print(components(random)$no)\n",
                "\n",
                "lapl <- laplacian_matrix(random)\n",
                "eigvallapl <- eigen(lapl)$values\n",
                "print(length(eigvallapl[Re(eigvallapl) <10^-12]))\n"
            ]
        },
        {
            "cell_type": "markdown",
            "metadata": {},
            "source": [
                "\n",
                "## Centrality measures and clustering coefficient\n"
            ]
        },
        {
            "cell_type": "code",
            "execution_count": null,
            "metadata": {},
            "outputs": [],
            "source": [
                "par( cex.lab = 0.8)\n",
                "nf<-layout(matrix(c(1,2,3,4,5,6), 2,3, byrow = TRUE), widths = c(4,4,4),heights = c(4,4), TRUE)\n",
                "pr<- hist(eigen_centrality(net, directed = TRUE)$vector,plot = FALSE)\n",
                "plot(pr, border = \"dark red\", col = \"red\",\n",
                "      main = \" \", xlab = \"Eigenvector centralities of the real network\")\n",
                "pr<- hist(betweenness(net,v=V(net),directed=TRUE,normalized=TRUE),plot = FALSE)\n",
                "plot(pr, border = \"dark blue\", col = \"blue\",\n",
                "      main = \" \", xlab = \"Betweenness centralities of the real network\")\n",
                "pr<- hist(transitivity(net, type = c(\"local\"), vids = NULL, weights = NULL, isolates =c(\"NaN\",\"zero\")),plot = FALSE)\n",
                "plot(pr, border = \"dark green\", col = \"green\",\n",
                "      main = \" \", xlab = \"Local clustering coefficients of the real network\")\n",
                "\n",
                "pr<- hist(eigen_centrality(random, directed = TRUE)$vector,plot = FALSE)\n",
                "plot(pr, border = \"dark red\", col = \"red\",\n",
                "      main = \" \", xlab = \"Eigenvector centralities of the random network\")\n",
                "\n",
                "pr<- hist(betweenness(random,v=V(random),directed=TRUE,normalized=TRUE),plot = FALSE)\n",
                "plot(pr, border = \"dark blue\", col = \"blue\",\n",
                "      main = \" \", xlab = \"Betweenness centralities of the random network\")\n",
                "\n",
                "pr<- hist(transitivity(random, type = c(\"local\"), vids = NULL, weights = NULL, isolates =c(\"NaN\",\"zero\")),plot = FALSE)\n",
                "plot(pr, border = \"dark green\", col = \"green\",\n",
                "      main = \" \", xlab = \"Local clustering coefficients of the random network\")\n"
            ]
        },
        {
            "cell_type": "markdown",
            "metadata": {},
            "source": [
                "\n",
                "## Page Rank Centrality\n"
            ]
        },
        {
            "cell_type": "code",
            "execution_count": null,
            "metadata": {},
            "outputs": [],
            "source": [
                "#par( cex.lab = 0.8)\n",
                "layout(matrix(c(1,2), 1, 2, byrow = TRUE), widths = c(4,4), heights = c(4), TRUE)\n",
                "pr1<-page_rank(net, algo = c(\"prpack\", \"arpack\", \"power\"), vids = V(net),\n",
                "               directed = TRUE, damping = 0.85, personalized = NULL, weights = NULL,\n",
                "               options = NULL)\n",
                "pr<- hist(pr1[[1]],plot = FALSE)\n",
                "plot(pr, border = \"dark red\", col = \"red\",\n",
                "      main = \" \", xlab = \"Page Rank centrality of the real network\")\n",
                "prrandom<-page_rank(random, algo = c(\"prpack\", \"arpack\", \"power\"), vids = V(random),\n",
                "               directed = TRUE, damping = 0.85, personalized = NULL, weights = NULL,\n",
                "               options = NULL)\n",
                "pr<- hist(prrandom[[1]],plot = FALSE)\n",
                "plot(pr, border = \"dark red\", col = \"red\",\n",
                "      main = \" \", xlab = \"Page Rank centrality of the random network\")\n"
            ]
        },
        {
            "cell_type": "markdown",
            "metadata": {},
            "source": [
                "The page rank centralities in the random network are much more bell shaped and their standard deviation is smaller than in the real case, i. e. they are quite homogeneous among nodes.\n",
                "The same happens as regard eigenvector centralities, betwenness centralities and clustering coefficients.\n"
            ]
        },
        {
            "cell_type": "code",
            "execution_count": null,
            "metadata": {},
            "outputs": [],
            "source": [
                "global_cluster<-transitivity(net, type = c(\"global\"), vids = NULL,\n",
                "                             weights = NULL, isolates = c(\"NaN\", \"zero\"))\n",
                "print(global_cluster)\n",
                "\n",
                "rho<-assortativity_degree(net, directed = TRUE)\n",
                "print(rho)\n",
                "\n",
                "global_cluster<-transitivity(random, type = c(\"global\"), vids = NULL,\n",
                "                             weights = NULL, isolates = c(\"NaN\", \"zero\"))\n",
                "print(global_cluster)\n",
                "print(mean(degree(random))/(vcount(random)-1))\n",
                "rho<-assortativity_degree(random, directed = TRUE)\n",
                "print(rho)\n"
            ]
        },
        {
            "cell_type": "markdown",
            "metadata": {},
            "source": [
                "In the random null model the global clustering coefficient is lower than the one of the real network.\n",
                "In a random network the clustering coefficient is approximately $\\langle k\\rangle/N$, i.e. it tends to diminish with system size, if $\\langle k \\rangle$ is smaller than $N$.\n",
                "The real network presents a slightly negative assortativity, meaning that high degree nodes tend to be connected with lower degree nodes, while in the random case it is close to zero.\n",
                "\n",
                "# Controllability analysis \n",
                "## Maximum matching of a bipartite representation\n"
            ]
        },
        {
            "cell_type": "code",
            "execution_count": null,
            "metadata": {},
            "outputs": [],
            "source": [
                "knitr::opts_chunk$set(fig.width=5, fig.height=5)\n",
                "par(cex.main = 2,\n",
                "    cex.lab = 1)\n"
            ]
        },
        {
            "cell_type": "markdown",
            "metadata": {},
            "source": [
                "The method here applied is taken from https://www.nature.com/articles/nature10011.\n",
                "To apply the structural controllability framework, first it is necessary to convert a digraph into the bipartite representation and then find the maximum matching on that graph. The number of unmatched nodes would be the number of required driver nodes to control the network.\n",
                "I first try the method on a random, small network, to see if the method works:\n"
            ]
        },
        {
            "cell_type": "code",
            "execution_count": null,
            "metadata": {},
            "outputs": [],
            "source": [
                "f <- erdos.renyi.game(10,0.5,type = c('gnp'), directed = F)\n",
                "adj <-as_adjacency_matrix(f)\n",
                "newadj<-matrix(0, nrow = dim(adj)[1]*2, ncol = dim(adj)[1]*2)\n",
                "for (i in 1:dim(adj)[1]){\n",
                "    for (j in 1:dim(adj)[2]){\n",
                "                 if (adj[i, j] > 0){\n",
                "                        newadj[i, j + dim(adj)[1]] = adj[i, j]\n",
                "                        newadj[j + dim(adj)[1], i] = adj[i, j]\n",
                "                 }\n",
                "    }\n",
                "}\n",
                "bip <-graph_from_adjacency_matrix(newadj,mode =c('undirected'))\n",
                "V(bip)$label<-c(c(1:10),c(1:10))\n",
                "V(bip)$type <- c(rep(1, length = dim(adj)[1]), rep(0, length = dim(adj)[1]))\n",
                "print(is.bipartite(bip))\n",
                "\n",
                "\n",
                "\n",
                "plot(f, main = 'Random digraph f')\n",
                "plot(bip, layout = layout_as_bipartite, main = 'Bipartite representation of f')\n",
                "print('The size of the maximum matching is:')\n",
                "print(maximum.bipartite.matching(bip)$matching_size)\n"
            ]
        },
        {
            "cell_type": "markdown",
            "metadata": {},
            "source": [
                "\n",
                "Now I apply the same method on the C-elegans adjacency matrix.\n"
            ]
        },
        {
            "cell_type": "code",
            "execution_count": null,
            "metadata": {},
            "outputs": [],
            "source": [
                "#library(maxmatching)\n",
                "#maxmatching(f)\n",
                "#maxmatching(bip)\n"
            ]
        },
        {
            "cell_type": "markdown",
            "metadata": {},
            "source": [
                "\n",
                "\n"
            ]
        },
        {
            "cell_type": "code",
            "execution_count": null,
            "metadata": {},
            "outputs": [],
            "source": [
                "adj <-as_adjacency_matrix(net)\n",
                "newadj<-matrix(0, nrow = dim(adj)[1]*2, ncol = dim(adj)[1]*2)\n",
                "for (i in 1:dim(adj)[1]){\n",
                "    for (j in 1:dim(adj)[2]){\n",
                "                 if (adj[i, j] > 0){\n",
                "                        newadj[i, j + dim(adj)[1]] = adj[i, j]\n",
                "                        newadj[j + dim(adj)[1], i] = adj[i, j]\n",
                "                 }\n",
                "    }\n",
                "}\n",
                "bip <-graph_from_adjacency_matrix(newadj,mode =c('undirected'))\n",
                "V(bip)$type <- c(rep(1, length = dim(adj)[1]), rep(0, length = dim(adj)[1]))\n",
                "print(is.bipartite(bip))\n",
                "print(maximum.bipartite.matching(bip)$matching_size)\n"
            ]
        },
        {
            "cell_type": "markdown",
            "metadata": {},
            "source": "And on the random surrogate:\n"
        },
        {
            "cell_type": "code",
            "execution_count": null,
            "metadata": {},
            "outputs": [],
            "source": [
                "adj <- Arandom\n",
                "newadj<-matrix(0, nrow = dim(adj)[1]*2, ncol = dim(adj)[1]*2)\n",
                "for (i in 1:dim(adj)[1]){\n",
                "    for (j in 1:dim(adj)[2]){\n",
                "                 if (adj[i, j] > 0){\n",
                "                        newadj[i, j + dim(adj)[1]] = adj[i, j]\n",
                "                        newadj[j + dim(adj)[1], i] = adj[i, j]\n",
                "                 }\n",
                "    }\n",
                "}\n",
                "bip <-graph_from_adjacency_matrix(newadj,mode =c('undirected'))\n",
                "V(bip)$type <- c(rep(1, length = dim(adj)[1]), rep(0, length = dim(adj)[1]))\n",
                "print(is.bipartite(bip))\n",
                "print(maximum.bipartite.matching(bip)$matching_size)\n"
            ]
        },
        {
            "cell_type": "markdown",
            "metadata": {},
            "source": [
                "Since the matching is perfect, it seems that just a single driver node is necessary to structurally control both the real network and the null model. This could be explained by the fact that both networks are not very sparse (the number of edges is much greater the the number of nodes).\n",
                "\n",
                "\n",
                "\n",
                "\n",
                "## Kalman controllability\n",
                "\n",
                "The method here applied is taken from https://www.nature.com/articles/ncomms9414, in which a discrete, linear dynamics, described by the adjacency matrix $A$ is assumed.\n",
                "\n",
                "### Controllability from a single node\n",
                "\n",
                "Here I study the controllability Gramian considering separately each node as a control point: for each node, the matrix $B$ is a vector of zeros, with the i-th element, corresponding to the i-th node, equal to 1. The controllability analysis reduces to solve a Discrete Lyapunov Equation $AWA^T - W + Q = 0$, in which the matrix $A$ is the adjacency matrix of the data, and the matrix $Q$ is given by $BB^T$. Notably, following  https://www.nature.com/articles/ncomms9414, the matrix $A$ has also to be rescaled (for example dividing it by 1 + its spectral radius) so to make the dynamics it describes stable. I also had to delete a column from $A$, since it was dependent from the other columns and thus $A$ was not invertible. I comment the following lines since they take much time to run, the output is explained below.\n"
            ]
        },
        {
            "cell_type": "code",
            "execution_count": null,
            "metadata": {},
            "outputs": [],
            "source": [
                "# list <- {}\n",
                "# A<-as_adjacency_matrix(net)\n",
                "# A1 <- as.matrix(A/(1+max(abs(Re(eigen(A)$values))))) # here I rescale A so to make the dynamics it describes stable\n",
                "# nnodes<-dim(A1)[1]\n",
                "# q <-qr(A1)\n",
                "# mat <- A1[q$pivot[seq(q$rank)], q$pivot[seq(q$rank)]] # here I delete a column that is linearly dependent from the others otherwise \"dlyap\" gives me error since A1 is not invertible\n",
                "# \n",
                "# for (j in c(1:dim(mat)[1])){\n",
                "#   B <- matrix(0,nrow =dim(mat)[1], ncol = 1)\n",
                "#   B[j,1] = 1\n",
                "#   W <- dlyap(mat,B%*%t(B))\n",
                "#   list <-c(list,min(Re(eigen(W)$values)))\n",
                "#   if (min(Re(eigen(W)$values))>0){\n",
                "#     print(j)\n",
                "#   }\n",
                "# }\n",
                "# print(mean(list))\n",
                "# print(sd(list))\n"
            ]
        },
        {
            "cell_type": "markdown",
            "metadata": {},
            "source": "Here I apply the same method on the random null model.\n"
        },
        {
            "cell_type": "code",
            "execution_count": null,
            "metadata": {},
            "outputs": [],
            "source": [
                "# list <- {}\n",
                "# A<-as_adjacency_matrix(random)\n",
                "# A1 <- as.matrix(A/(1+max(abs(Re(eigen(A)$values))))) # here I rescale A so to make the dynamics it describes stable\n",
                "# nnodes<-dim(A1)[1]\n",
                "# \n",
                "# \n",
                "# q <-qr(A1)\n",
                "# mat <- A1[q$pivot[seq(q$rank)], q$pivot[seq(q$rank)]]\n",
                "# \n",
                "# for (j in c(1)){\n",
                "#   B <- matrix(0,nrow =dim(mat)[1], ncol = 1)\n",
                "#   B[j,1] = 1\n",
                "#   W <- dlyap(mat,B%*%t(B))\n",
                "#   list <-c(list,min(Re(eigen(W)$values)))\n",
                "#   if (min(Re(eigen(W)$values))>0){\n",
                "#     print(j)\n",
                "#   }\n",
                "# }\n",
                "# print(mean(list))\n",
                "# print(sd(list))\n"
            ]
        },
        {
            "cell_type": "markdown",
            "metadata": {},
            "source": [
                "The variable \"list\" contains all the minimum eigenvalues of the Gramians of all the nodes. Apparently neither of them is higher than zero, so the network is not controllable from a single node. In the real network, the mean of the minumum eigenvalues is -1.916625e-16 and their standard deviation 3.193487e-16. The minimum eigenvalues thus are clearly compatible with zero, and the situation is very similar in the random case. In general, the fact that this method is subject to numerical problems, plus the fact that the adjacency matrix has to be rescaled (and also dependent columns have to be deleted...) makes possible biological interpretation difficult. I found the result quite sensitive to the factor by which the matrix $A$ is rescaled.\n",
                "\n",
                "### Brain controllability with a finite energy and role of node centralities\n",
                "\n",
                "Here I sort nodes of the real network according to two centrality measures (out degree centrality and betweenness centrality) and then according to a random order, and consider the first k number of nodes in the ranking as the k control points. Then I apply the same procedure on the random nework, by ranking the nodes according to degree centrality. I estimate the minimum number of nodes to control the network. The minimum eigenvalue of the Gramian is greater than zero when considering 44/39/41 nodes in the real network and 33 nodes in the case of a random network. However, the minimum eigenvalue at that stage is still numerically compatible with zero. Setting a threshold in the energy required to control the network, and looking at how many nodes are necessary to achieve control, given that fixed energy, could be a better way to investigate numerically the controllability, as it is done here https://www.sciencedirect.com/science/article/abs/pii/S1053811918302982. So, in the following code I fix the energy to $10^{10}$ and look for the number of nodes needed to control the network, given this energy. In the real network, 87 (ranked by degree centrality), 82, (ranked by betweenness centrality), 70 (ranked in a random order) nodes are necessary to control the network given the fixed energy. Selecting nodes according to the centrality measure thus doesn't seem to bring advantages in the controllability. In the random case the number of nodes needed seems much lower (54). These results are still affected by numerical problems, but they might be in accordance with the result of https://www.nature.com/articles/nature10011, that shows that random homogeneus networks are more easily controllable than heterogeneous networks such as the scale free ones.\n"
            ]
        },
        {
            "cell_type": "code",
            "execution_count": null,
            "metadata": {},
            "outputs": [],
            "source": [
                "energy <-10^10\n",
                "emin<-1/energy\n",
                "# Nodes are ordered on the basis of out degree\n",
                "list <- {}\n",
                "A<- as_adjacency_matrix(net)\n",
                "A1 <- as.matrix(A/(1+max(abs(Re(eigen(A)$values))))) # here I rescale A so to make the dynamics it describes stable\n",
                "nnodes<-dim(A1)[1]\n",
                "q <-qr(A1)\n",
                "mat <- A1[q$pivot[seq(q$rank)], q$pivot[seq(q$rank)]]\n",
                "r <-degree(net,v=V(net),mode = c('out'))\n",
                "r <- r[q$pivot[seq(q$rank)]]\n",
                "index <- sort(r, decreasing  = T,index.return=T)$ix\n",
                "ncon <- dim(mat)[1]\n",
                "B <- matrix(0,nrow =dim(mat)[1], ncol = ncon)\n",
                "co <- 1\n",
                "for (j in c(index)){\n",
                "  B[j,j] = 1\n",
                "  W <- dlyap(mat,B%*%t(B))\n",
                "  list <-c(list,min(Re(eigen(W)$values)))\n",
                "  if(min(Re(eigen(W)$values))>=emin){\n",
                "   break\n",
                "  }\n",
                "  co = co + 1\n",
                "}\n",
                "print(co)\n"
            ]
        },
        {
            "cell_type": "markdown",
            "metadata": {},
            "source": [
                "\n",
                "\n"
            ]
        },
        {
            "cell_type": "code",
            "execution_count": null,
            "metadata": {},
            "outputs": [],
            "source": [
                "list <- {}\n",
                "A<- as_adjacency_matrix(net)\n",
                "A1 <- as.matrix(A/(1+max(abs(Re(eigen(A)$values))))) # here I rescale A so to make the dynamics it describes stable\n",
                "nnodes<-dim(A1)[1]\n",
                "q <-qr(A1)\n",
                "mat <- A1[q$pivot[seq(q$rank)], q$pivot[seq(q$rank)]]\n",
                "r <-betweenness(net,v=V(net),directed=TRUE,normalized=TRUE)\n",
                "r <- r[q$pivot[seq(q$rank)]]\n",
                "index <- sort(r, decreasing  = T,index.return=T)$ix\n",
                "ncon <- dim(mat)[1]\n",
                "B <- matrix(0,nrow =dim(mat)[1], ncol = ncon)\n",
                "co <- 1\n",
                "for (j in c(index)){\n",
                "  B[j,j] = 1\n",
                "  W <- dlyap(mat,B%*%t(B))\n",
                "  list <-c(list,min(Re(eigen(W)$values)))\n",
                "  if(min(Re(eigen(W)$values))>=emin){\n",
                "    break\n",
                "  }\n",
                "  co = co + 1\n",
                "}\n",
                "print(co)\n"
            ]
        },
        {
            "cell_type": "markdown",
            "metadata": {},
            "source": "Here instead I select nodes in random order.\n"
        },
        {
            "cell_type": "code",
            "execution_count": null,
            "metadata": {},
            "outputs": [],
            "source": [
                "list <- {}\n",
                "A<- as_adjacency_matrix(net)\n",
                "A1 <- as.matrix(A/(1+max(abs(Re(eigen(A)$values))))) # here I rescale A so to make the dynamics it describes stable\n",
                "nnodes<-dim(A1)[1]\n",
                "q <-qr(A1)\n",
                "mat <- A1[q$pivot[seq(q$rank)], q$pivot[seq(q$rank)]]\n",
                "index <- c(1:vcount(net))[seq(q$rank)]\n",
                "index<- shuffle(index)\n",
                "ncon <- dim(mat)[1]\n",
                "B <- matrix(0,nrow =dim(mat)[1], ncol = ncon)\n",
                "co <- 1\n",
                "for (j in c(index)){\n",
                "  B[j,j] = 1\n",
                "  W <- dlyap(mat,B%*%t(B))\n",
                "  list <-c(list,min(Re(eigen(W)$values)))\n",
                "  if(min(Re(eigen(W)$values))>= emin){\n",
                "    break\n",
                "  }\n",
                "  co = co +1\n",
                "}\n",
                "print(co)\n"
            ]
        },
        {
            "cell_type": "markdown",
            "metadata": {},
            "source": "Here I do the same on the random network, by ranking the nodes according to their out degree\n"
        },
        {
            "cell_type": "code",
            "execution_count": null,
            "metadata": {},
            "outputs": [],
            "source": [
                "network <-random\n",
                "list <- {}\n",
                "A<- as_adjacency_matrix(network)\n",
                "A1 <- as.matrix(A/(1+max(abs(Re(eigen(A)$values))))) # here I rescale A so to make the dynamics it describes stable\n",
                "nnodes<-dim(A1)[1]\n",
                "q <-qr(A1)\n",
                "mat <- A1[q$pivot[seq(q$rank)], q$pivot[seq(q$rank)]]\n",
                "\n",
                "r <-degree(network,v=V(network),mode = c('out'))\n",
                "r <- r[q$pivot[seq(q$rank)]]\n",
                "index <- sort(r, decreasing  = T,index.return=T)$ix\n",
                "ncon <- dim(mat)[1]\n",
                "B <- matrix(0,nrow =dim(mat)[1], ncol = ncon)\n",
                "co <- 1\n",
                "for (j in c(index)){\n",
                "  B[j,j] = 1\n",
                "  W <- dlyap(mat,B%*%t(B))\n",
                "  list <-c(list,min(Re(eigen(W)$values)))\n",
                "  if(min(Re(eigen(W)$values))>=emin){\n",
                "    break\n",
                "  }\n",
                "  co = co +1\n",
                "}\n",
                "print(co)\n"
            ]
        },
        {
            "cell_type": "markdown",
            "metadata": {},
            "source": "\n"
        }
    ],
    "metadata": {
        "anaconda-cloud": "",
        "kernelspec": {
            "display_name": "R",
            "langauge": "R",
            "name": "ir"
        },
        "language_info": {
            "codemirror_mode": "r",
            "file_extension": ".r",
            "mimetype": "text/x-r-source",
            "name": "R",
            "pygments_lexer": "r",
            "version": "3.4.1"
        }
    },
    "nbformat": 4,
    "nbformat_minor": 1
}
